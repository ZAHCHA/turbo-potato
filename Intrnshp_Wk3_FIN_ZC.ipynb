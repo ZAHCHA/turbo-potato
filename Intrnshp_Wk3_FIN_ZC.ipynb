{
 "cells": [
  {
   "cell_type": "code",
   "execution_count": 1,
   "id": "10aca449",
   "metadata": {},
   "outputs": [],
   "source": [
    "# Function to calculate and display cost for slab 1\n",
    "def costSlab1():\n",
    "    unit_range = 100\n",
    "    rate = 10\n",
    "    slab_data = matrix[0]\n",
    "    total_cost = sum(min(unit, unit_range) * rate for unit in slab_data)\n",
    "    print(f\"Total cost for Slab 1: Rs.{total_cost}\")\n"
   ]
  },
  {
   "cell_type": "code",
   "execution_count": 2,
   "id": "96c7917d",
   "metadata": {},
   "outputs": [],
   "source": [
    "# Function to calculate and display cost for slab 2\n",
    "def costSlab2():\n",
    "    unit_range = 200\n",
    "    rate = 15\n",
    "    slab_data = matrix[1]\n",
    "    total_cost = sum(max(0, unit - 100) * rate for unit in slab_data)\n",
    "    print(f\"Total cost for Slab 2: Rs.{total_cost}\")\n"
   ]
  },
  {
   "cell_type": "code",
   "execution_count": 3,
   "id": "f60e45df",
   "metadata": {},
   "outputs": [],
   "source": [
    "# Function to calculate and display cost for slab 3\n",
    "def costSlab3():\n",
    "    unit_range = 300\n",
    "    rate = 20\n",
    "    slab_data = matrix[2]\n",
    "    total_cost = sum(max(0, unit - 200) * rate for unit in slab_data)\n",
    "    print(f\"Total cost for Slab 3: Rs.{total_cost}\")\n"
   ]
  },
  {
   "cell_type": "code",
   "execution_count": 4,
   "id": "84eb0bc9",
   "metadata": {},
   "outputs": [],
   "source": [
    "# Source matrix\n",
    "matrix = [\n",
    "    [55, 65, 75],\n",
    "    [120, 150, 170],\n",
    "    [210, 230, 240]\n",
    "]\n",
    "\n",
    "# Student ID (you can replace it with the actual student ID)\n",
    "student_id = \"12345\"\n"
   ]
  },
  {
   "cell_type": "code",
   "execution_count": 5,
   "id": "b9504998",
   "metadata": {},
   "outputs": [
    {
     "name": "stdout",
     "output_type": "stream",
     "text": [
      "Student ID: 12345\n",
      "1. Display bill for Slab 1 and Slab 2\n",
      "2. Display bill for Slab 3\n",
      "3. Exit\n",
      "Enter your choice: 1\n",
      "Total cost for Slab 1: Rs.1950\n",
      "Total cost for Slab 2: Rs.2100\n",
      "Student ID: 12345\n",
      "1. Display bill for Slab 1 and Slab 2\n",
      "2. Display bill for Slab 3\n",
      "3. Exit\n",
      "Enter your choice: 2\n",
      "Total cost for Slab 3: Rs.1600\n",
      "Student ID: 12345\n",
      "1. Display bill for Slab 1 and Slab 2\n",
      "2. Display bill for Slab 3\n",
      "3. Exit\n",
      "Enter your choice: 1\n",
      "Total cost for Slab 1: Rs.1950\n",
      "Total cost for Slab 2: Rs.2100\n",
      "Student ID: 12345\n",
      "1. Display bill for Slab 1 and Slab 2\n",
      "2. Display bill for Slab 3\n",
      "3. Exit\n",
      "Enter your choice: 2\n",
      "Total cost for Slab 3: Rs.1600\n",
      "Student ID: 12345\n",
      "1. Display bill for Slab 1 and Slab 2\n",
      "2. Display bill for Slab 3\n",
      "3. Exit\n",
      "Enter your choice: 3\n",
      "Exiting the program. Goodbye!\n"
     ]
    }
   ],
   "source": [
    "while True:\n",
    "    # Display student ID at the top of the menu\n",
    "    print(f\"Student ID: {student_id}\")\n",
    "    \n",
    "    # Display menu options\n",
    "    print(\"1. Display bill for Slab 1 and Slab 2\")\n",
    "    print(\"2. Display bill for Slab 3\")\n",
    "    print(\"3. Exit\")\n",
    "    \n",
    "    # Get user input\n",
    "    choice = input(\"Enter your choice: \")\n",
    "    \n",
    "    # Perform actions based on user input\n",
    "    if choice == '1':\n",
    "        costSlab1()\n",
    "        costSlab2()\n",
    "    elif choice == '2':\n",
    "        costSlab3()\n",
    "    else:\n",
    "        print(\"Exiting the program. Goodbye!\")\n",
    "        break\n"
   ]
  },
  {
   "cell_type": "code",
   "execution_count": null,
   "id": "1deaac14",
   "metadata": {},
   "outputs": [],
   "source": []
  },
  {
   "cell_type": "code",
   "execution_count": null,
   "id": "98ce3c22",
   "metadata": {},
   "outputs": [],
   "source": []
  },
  {
   "cell_type": "code",
   "execution_count": null,
   "id": "24063a53",
   "metadata": {},
   "outputs": [],
   "source": []
  },
  {
   "cell_type": "code",
   "execution_count": null,
   "id": "608e9519",
   "metadata": {},
   "outputs": [],
   "source": []
  },
  {
   "cell_type": "code",
   "execution_count": null,
   "id": "c493eca7",
   "metadata": {},
   "outputs": [],
   "source": []
  }
 ],
 "metadata": {
  "kernelspec": {
   "display_name": "Python 3 (ipykernel)",
   "language": "python",
   "name": "python3"
  },
  "language_info": {
   "codemirror_mode": {
    "name": "ipython",
    "version": 3
   },
   "file_extension": ".py",
   "mimetype": "text/x-python",
   "name": "python",
   "nbconvert_exporter": "python",
   "pygments_lexer": "ipython3",
   "version": "3.9.7"
  }
 },
 "nbformat": 4,
 "nbformat_minor": 5
}
