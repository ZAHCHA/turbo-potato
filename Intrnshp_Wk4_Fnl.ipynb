{
 "cells": [
  {
   "cell_type": "code",
   "execution_count": 8,
   "id": "42bf4fd3",
   "metadata": {},
   "outputs": [],
   "source": [
    "class ShapesCalculator:\n",
    "    def __init__(self, digit_hexagon=9, a_hexagon=6, digit_square=9):\n",
    "        self.digit_hexagon = digit_hexagon\n",
    "        self.a_hexagon = a_hexagon\n",
    "        self.digit_square = digit_square\n",
    "\n",
    "    def calcPeri_hexagon(self):\n",
    "        return round(1.5 * 1.732 * self.digit_hexagon, 3)\n",
    "\n",
    "\n",
    "    def calcArea_hexagon(self):\n",
    "        return 6 * self.digit_hexagon\n",
    "\n",
    "    def calcAngleSum_hexagon(self):\n",
    "        return 6 * self.a_hexagon\n",
    "\n",
    "    def calcPeri_square(self):\n",
    "        return 4 * self.digit_square\n",
    "\n",
    "    def calcArea_square(self):\n",
    "        return self.digit_square ** 2\n",
    "\n",
    "    def display(self):\n",
    "        while True:\n",
    "            choice = input(\n",
    "                            \"Enter 1 to calculate hexagon perimeter, area, and angle sum.\\n\"\n",
    "                            \"Enter 2 to calculate square perimeter and area.\\n\"\n",
    "                            \"Any other input exits the program.\\n\"\n",
    "                            )\n",
    "\n",
    "            if choice == '1':\n",
    "                peri_hexagon = self.calcPeri_hexagon()\n",
    "                area_hexagon = self.calcArea_hexagon()\n",
    "                angle_sum_hexagon = self.calcAngleSum_hexagon()\n",
    "\n",
    "                print(f\"Hexagon Perimeter: {peri_hexagon}\")\n",
    "                print(f\"Hexagon Area: {area_hexagon}\")\n",
    "                print(f\"Hexagon Angle Sum: {angle_sum_hexagon}\")\n",
    "            elif choice == '2':\n",
    "                peri_square = self.calcPeri_square()\n",
    "                area_square = self.calcArea_square()\n",
    "\n",
    "                print(f\"Square Perimeter: {peri_square}\")\n",
    "                print(f\"Square Area: {area_square}\")\n",
    "            else:\n",
    "                print(\"Exiting the program.\")\n",
    "                break\n"
   ]
  },
  {
   "cell_type": "code",
   "execution_count": 9,
   "id": "f1514ecc",
   "metadata": {},
   "outputs": [
    {
     "name": "stdout",
     "output_type": "stream",
     "text": [
      "Enter 1 to calculate hexagon perimeter, area, and angle sum.\n",
      "Enter 2 to calculate square perimeter and area.\n",
      "Any other input exits the program.\n",
      "1\n",
      "Hexagon Perimeter: 23.382\n",
      "Hexagon Area: 54\n",
      "Hexagon Angle Sum: 36\n",
      "Enter 1 to calculate hexagon perimeter, area, and angle sum.\n",
      "Enter 2 to calculate square perimeter and area.\n",
      "Any other input exits the program.\n",
      "2\n",
      "Square Perimeter: 36\n",
      "Square Area: 81\n",
      "Enter 1 to calculate hexagon perimeter, area, and angle sum.\n",
      "Enter 2 to calculate square perimeter and area.\n",
      "Any other input exits the program.\n",
      "3\n",
      "Exiting the program.\n"
     ]
    }
   ],
   "source": [
    "# Create an instance of the ShapesCalculator class\n",
    "calculator = ShapesCalculator()\n",
    "\n",
    "# Display the results\n",
    "calculator.display()\n"
   ]
  },
  {
   "cell_type": "code",
   "execution_count": null,
   "id": "72bbf545",
   "metadata": {},
   "outputs": [],
   "source": []
  },
  {
   "cell_type": "code",
   "execution_count": null,
   "id": "36a653a6",
   "metadata": {},
   "outputs": [],
   "source": []
  },
  {
   "cell_type": "code",
   "execution_count": null,
   "id": "7c931668",
   "metadata": {},
   "outputs": [],
   "source": []
  }
 ],
 "metadata": {
  "kernelspec": {
   "display_name": "Python 3 (ipykernel)",
   "language": "python",
   "name": "python3"
  },
  "language_info": {
   "codemirror_mode": {
    "name": "ipython",
    "version": 3
   },
   "file_extension": ".py",
   "mimetype": "text/x-python",
   "name": "python",
   "nbconvert_exporter": "python",
   "pygments_lexer": "ipython3",
   "version": "3.9.7"
  }
 },
 "nbformat": 4,
 "nbformat_minor": 5
}
