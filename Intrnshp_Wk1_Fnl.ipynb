{
 "cells": [
  {
   "cell_type": "code",
   "execution_count": 681,
   "id": "b457e2f7",
   "metadata": {},
   "outputs": [],
   "source": [
    "# Define item information arrays\n",
    "case_items = [(\"A1\", \"Compact\", 75.00), (\"A2\", \"Tower\", 150.00)]\n",
    "ram_items = [(\"B1\", \"8 GB\", 79.99), (\"B2\", \"16 GB\", 149.99), (\"B3\", \"32 GB\", 299.99)]\n",
    "hdd_items = [(\"C1\", \"1 TB HDD\", 49.99), (\"C2\", \"2 TB HDD\", 89.99), (\"C3\", \"4 TB HDD\", 129.99)]\n"
   ]
  },
  {
   "cell_type": "code",
   "execution_count": 682,
   "id": "059e537c",
   "metadata": {},
   "outputs": [],
   "source": [
    "# Initialize variables to store selected items\n",
    "selected_case = None\n",
    "selected_ram = None\n",
    "selected_hdd = None"
   ]
  },
  {
   "cell_type": "code",
   "execution_count": 683,
   "id": "be78f21c",
   "metadata": {},
   "outputs": [
    {
     "name": "stdout",
     "output_type": "stream",
     "text": [
      "\n",
      "Choose one item from each category:\n",
      "Case Options:\n",
      "A1: Compact - $75.00\n",
      "A2: Tower - $150.00\n",
      "Enter the code of the case you want (A1 or A2): a2\n",
      "\n",
      "RAM Options:\n",
      "B1: 8 GB - $79.99\n",
      "B2: 16 GB - $149.99\n",
      "B3: 32 GB - $299.99\n",
      "Enter the code of the RAM you want (B1, B2, or B3): b3\n",
      "\n",
      "HDD Options:\n",
      "C1: 1 TB HDD - $49.99\n",
      "C2: 2 TB HDD - $89.99\n",
      "C3: 4 TB HDD - $129.99\n",
      "Enter the code of the HDD you want (C1, C2, or C3): c3\n"
     ]
    }
   ],
   "source": [
    "# Get user input for selecting items from each array\n",
    "while not (selected_case and selected_ram and selected_hdd):\n",
    "    print(\"\\nChoose one item from each category:\")\n",
    "    \n",
    "    # Select a case\n",
    "    if not selected_case:\n",
    "        print(\"Case Options:\")\n",
    "        for code, description, price in case_items:\n",
    "            print(f\"{code}: {description} - ${price:.2f}\")\n",
    "        case_code = input(\"Enter the code of the case you want (A1 or A2): \").strip().upper()\n",
    "        for code, description, price in case_items:\n",
    "            if case_code == code:\n",
    "                selected_case = (description, price)\n",
    "                break\n",
    "        if not selected_case:\n",
    "            print(\"Invalid case code. Please try again.\")\n",
    "    \n",
    "    # Select RAM\n",
    "    if not selected_ram:\n",
    "        print(\"\\nRAM Options:\")\n",
    "        for code, description, price in ram_items:\n",
    "            print(f\"{code}: {description} - ${price:.2f}\")\n",
    "        ram_code = input(\"Enter the code of the RAM you want (B1, B2, or B3): \").strip().upper()\n",
    "        for code, description, price in ram_items:\n",
    "            if ram_code == code:\n",
    "                selected_ram = (description, price)\n",
    "                break\n",
    "        if not selected_ram:\n",
    "            print(\"Invalid RAM code. Please try again.\")\n",
    "    \n",
    "    # Select HDD\n",
    "    if not selected_hdd:\n",
    "        print(\"\\nHDD Options:\")\n",
    "        for code, description, price in hdd_items:\n",
    "            print(f\"{code}: {description} - ${price:.2f}\")\n",
    "        hdd_code = input(\"Enter the code of the HDD you want (C1, C2, or C3): \").strip().upper()\n",
    "        for code, description, price in hdd_items:\n",
    "            if hdd_code == code:\n",
    "                selected_hdd = (description, price)\n",
    "                break\n",
    "        if not selected_hdd:\n",
    "            print(\"Invalid HDD code. Please try again.\")\n"
   ]
  },
  {
   "cell_type": "code",
   "execution_count": 684,
   "id": "bfa418cd",
   "metadata": {},
   "outputs": [],
   "source": [
    "# Calculate the total price of the selected components\n",
    "total_price = sum(item[1] for item in (selected_case, selected_ram, selected_hdd)) + 200\n",
    "carry_price = total_price"
   ]
  },
  {
   "cell_type": "code",
   "execution_count": 685,
   "id": "e9702eaf",
   "metadata": {},
   "outputs": [
    {
     "name": "stdout",
     "output_type": "stream",
     "text": [
      "\n",
      "Selected Items:\n",
      "Case: Tower - $150.00\n",
      "RAM: 32 GB - $299.99\n",
      "HDD: 4 TB HDD - $129.99\n",
      "plus $200 - basic components\n",
      "\n",
      "\tTotal Price: $779.98\n"
     ]
    }
   ],
   "source": [
    "# Display the selected items and the total price\n",
    "print(\"\\nSelected Items:\")\n",
    "print(f\"Case: {selected_case[0]} - ${selected_case[1]:.2f}\")\n",
    "print(f\"RAM: {selected_ram[0]} - ${selected_ram[1]:.2f}\")\n",
    "print(f\"HDD: {selected_hdd[0]} - ${selected_hdd[1]:.2f}\")\n",
    "print(\"plus $200 - basic components\")\n",
    "print(f\"\\n\\tTotal Price: ${total_price:.2f}\")"
   ]
  },
  {
   "cell_type": "code",
   "execution_count": 686,
   "id": "eccca5fd",
   "metadata": {},
   "outputs": [],
   "source": [
    "# Define additional item information arrays\n",
    "ssd_items = [(\"D1\", \"240 GB SSD\", 59.99), (\"D2\", \"480 GB SSD\", 119.99), (\"N0\",\"Part Not Required\", 0)]\n",
    "second_hdd_items = [(\"E1\", \"1 TB HDD\", 49.99), (\"E2\", \"2 TB HDD\", 89.99), (\"E3\", \"4 TB HDD\", 129.99), (\"N0\",\"Part Not Required\", 0)]\n",
    "optical_drive_items = [(\"F1\", \"DVD/Blu-Ray Player\", 50.00), (\"F2\", \"DVD/Blu-Ray Re-writer\", 100.00), (\"N0\",\"Part Not Required\", 0)]\n",
    "os_items = [(\"G1\", \"Standard Version\", 100.00), (\"G2\", \"Professional Version\", 175.00), (\"N0\",\"Part Not Required\", 0)]"
   ]
  },
  {
   "cell_type": "code",
   "execution_count": 687,
   "id": "0fecc6ee",
   "metadata": {},
   "outputs": [],
   "source": [
    "# Initialize variables to store selected additional items\n",
    "selected_ssd = None\n",
    "selected_second_hdd = None\n",
    "selected_optical_drive = None\n",
    "selected_os = None"
   ]
  },
  {
   "cell_type": "code",
   "execution_count": 688,
   "id": "2acfdf00",
   "metadata": {},
   "outputs": [
    {
     "name": "stdout",
     "output_type": "stream",
     "text": [
      "\n",
      "Choose one item from each additional category (or type N0 (n zero) to skip the category):\n",
      "\n",
      "SSD Options:\n",
      "D1: 240 GB SSD - $59.99\n",
      "D2: 480 GB SSD - $119.99\n",
      "N0: Part Not Required - $0.00\n",
      "Enter the code of the SSD you want (D1 or D2): \n",
      "Invalid SSD code.\n",
      "\n",
      "Second HDD Options:\n",
      "E1: 1 TB HDD - $49.99\n",
      "E2: 2 TB HDD - $89.99\n",
      "E3: 4 TB HDD - $129.99\n",
      "N0: Part Not Required - $0.00\n",
      "Enter the code of the Second HDD you want (E1, E2, or E3): e2\n",
      "\n",
      "Optical Drive Options:\n",
      "F1: DVD/Blu-Ray Player - $50.00\n",
      "F2: DVD/Blu-Ray Re-writer - $100.00\n",
      "N0: Part Not Required - $0.00\n",
      "Enter the code of the Optical Drive you want (F1 or F2): \n",
      "Invalid Optical Drive code.\n",
      "\n",
      "Operating System Options:\n",
      "G1: Standard Version - $100.00\n",
      "G2: Professional Version - $175.00\n",
      "N0: Part Not Required - $0.00\n",
      "Enter the code of the Operating System you want (G1 or G2): g2\n",
      "\n",
      "Choose one item from each additional category (or type N0 (n zero) to skip the category):\n",
      "\n",
      "SSD Options:\n",
      "D1: 240 GB SSD - $59.99\n",
      "D2: 480 GB SSD - $119.99\n",
      "N0: Part Not Required - $0.00\n",
      "Enter the code of the SSD you want (D1 or D2): d1\n",
      "\n",
      "Optical Drive Options:\n",
      "F1: DVD/Blu-Ray Player - $50.00\n",
      "F2: DVD/Blu-Ray Re-writer - $100.00\n",
      "N0: Part Not Required - $0.00\n",
      "Enter the code of the Optical Drive you want (F1 or F2): \n",
      "Invalid Optical Drive code.\n",
      "\n",
      "Choose one item from each additional category (or type N0 (n zero) to skip the category):\n",
      "\n",
      "Optical Drive Options:\n",
      "F1: DVD/Blu-Ray Player - $50.00\n",
      "F2: DVD/Blu-Ray Re-writer - $100.00\n",
      "N0: Part Not Required - $0.00\n",
      "Enter the code of the Optical Drive you want (F1 or F2): \n",
      "Invalid Optical Drive code.\n",
      "\n",
      "Choose one item from each additional category (or type N0 (n zero) to skip the category):\n",
      "\n",
      "Optical Drive Options:\n",
      "F1: DVD/Blu-Ray Player - $50.00\n",
      "F2: DVD/Blu-Ray Re-writer - $100.00\n",
      "N0: Part Not Required - $0.00\n",
      "Enter the code of the Optical Drive you want (F1 or F2): n0\n"
     ]
    }
   ],
   "source": [
    "# Get user input for selecting items from each additional category\n",
    "while not (selected_ssd and selected_second_hdd and selected_optical_drive and selected_os):\n",
    "    print(\"\\nChoose one item from each additional category (or type N0 (n zero) to skip the category):\")\n",
    "    \n",
    "    # Select SSD\n",
    "    if not selected_ssd:\n",
    "        print(\"\\nSSD Options:\")\n",
    "        for code, description, price in ssd_items:\n",
    "            print(f\"{code}: {description} - ${price:.2f}\")\n",
    "        ssd_code = input(\"Enter the code of the SSD you want (D1 or D2): \").strip().upper()\n",
    "        for code, description, price in ssd_items:\n",
    "            if ssd_code == code:\n",
    "                selected_ssd = (description, price)\n",
    "                break\n",
    "        if not selected_ssd:\n",
    "            print(\"Invalid SSD code.\")\n",
    "            \n",
    "    \n",
    "    # Select Second HDD\n",
    "    if not selected_second_hdd:\n",
    "        print(\"\\nSecond HDD Options:\")\n",
    "        for code, description, price in second_hdd_items:\n",
    "            print(f\"{code}: {description} - ${price:.2f}\")\n",
    "        second_hdd_code = input(\"Enter the code of the Second HDD you want (E1, E2, or E3): \").strip().upper()\n",
    "        for code, description, price in second_hdd_items:\n",
    "            if second_hdd_code == code:\n",
    "                selected_second_hdd = (description, price)\n",
    "                break\n",
    "        if not selected_second_hdd:\n",
    "            print(\"Invalid Second HDD code.\")\n",
    "            \n",
    "    \n",
    "    # Select Optical Drive\n",
    "    if not selected_optical_drive:\n",
    "        print(\"\\nOptical Drive Options:\")\n",
    "        for code, description, price in optical_drive_items:\n",
    "            print(f\"{code}: {description} - ${price:.2f}\")\n",
    "        optical_drive_code = input(\"Enter the code of the Optical Drive you want (F1 or F2): \").strip().upper()\n",
    "        for code, description, price in optical_drive_items:\n",
    "            if optical_drive_code == code:\n",
    "                selected_optical_drive = (description, price)\n",
    "                break\n",
    "        if not selected_optical_drive:\n",
    "            print(\"Invalid Optical Drive code.\")\n",
    "            \n",
    "    \n",
    "    # Select Operating System\n",
    "    if not selected_os:\n",
    "        print(\"\\nOperating System Options:\")\n",
    "        for code, description, price in os_items:\n",
    "            print(f\"{code}: {description} - ${price:.2f}\")\n",
    "        os_code = input(\"Enter the code of the Operating System you want (G1 or G2): \").strip().upper()\n",
    "        for code, description, price in os_items:\n",
    "            if os_code == code:\n",
    "                selected_os = (description, price)\n",
    "                break\n",
    "        if not selected_os:\n",
    "            print(\"Invalid Operating System code.\")\n",
    "        \n"
   ]
  },
  {
   "cell_type": "code",
   "execution_count": 689,
   "id": "a5e7bf3b",
   "metadata": {},
   "outputs": [
    {
     "name": "stdout",
     "output_type": "stream",
     "text": [
      "\n",
      "Selected Additional Items:\n",
      "SSD: 240 GB SSD - $59.99\n",
      "Second HDD: 2 TB HDD - $89.99\n",
      "Optical Drive: Part Not Required - $0.00\n",
      "Operating System: Professional Version - $175.00\n"
     ]
    }
   ],
   "source": [
    "# Display the selected additional items\n",
    "print(\"\\nSelected Additional Items:\")\n",
    "if selected_ssd:\n",
    "    print(f\"SSD: {selected_ssd[0]} - ${selected_ssd[1]:.2f}\")\n",
    "if selected_second_hdd:\n",
    "    print(f\"Second HDD: {selected_second_hdd[0]} - ${selected_second_hdd[1]:.2f}\")\n",
    "if selected_optical_drive:\n",
    "    print(f\"Optical Drive: {selected_optical_drive[0]} - ${selected_optical_drive[1]:.2f}\")\n",
    "if selected_os:\n",
    "    print(f\"Operating System: {selected_os[0]} - ${selected_os[1]:.2f}\")"
   ]
  },
  {
   "cell_type": "code",
   "execution_count": 690,
   "id": "fec43d60",
   "metadata": {},
   "outputs": [],
   "source": [
    "if selected_ssd == ('Part Not Required', 0):\n",
    "    selected_ssd = None\n",
    "if selected_second_hdd == ('Part Not Required', 0):\n",
    "    selected_second_hdd = None\n",
    "if selected_optical_drive == ('Part Not Required', 0):\n",
    "    selected_optical_drive = None\n",
    "if selected_os == ('Part Not Required', 0):\n",
    "    selected_os = None"
   ]
  },
  {
   "cell_type": "code",
   "execution_count": 691,
   "id": "d616b151",
   "metadata": {},
   "outputs": [
    {
     "name": "stdout",
     "output_type": "stream",
     "text": [
      "\n",
      "Total Price before discount is:  1104.96\n",
      "Total Price after discount is: $994.46\n"
     ]
    }
   ],
   "source": [
    "# Calculate the total price of the selected components\n",
    "#selected_items = [item for item in (selected_ssd, selected_second_hdd, selected_optical_drive, selected_os) if item]\n",
    "selected_items = [item for item in (selected_ssd, selected_second_hdd, selected_optical_drive, selected_os) if item]\n",
    "if selected_items:\n",
    "    total_price = carry_price + sum(item[1] for item in selected_items)\n",
    "    print('\\nTotal Price before discount is: ', total_price)\n",
    "    \n",
    "    # Apply discounts based on the number of additional items\n",
    "    num_additional_items=0\n",
    "    if selected_ssd != None:\n",
    "        num_additional_items +=1\n",
    "    if selected_second_hdd != None:\n",
    "        num_additional_items +=1\n",
    "    if selected_optical_drive != None:\n",
    "        num_additional_items +=1\n",
    "    if selected_os != None:\n",
    "        num_additional_items +=1\n",
    "        \n",
    "        \n",
    "    #num_additional_items = len(selected_ssd) + len(selected_second_hdd) + len(selected_optical_drive) #os\n",
    "   \n",
    "\n",
    "    if num_additional_items == 1:\n",
    "        discount = total_price * 0.05\n",
    "        total_price -= discount\n",
    "    elif num_additional_items >= 2:\n",
    "        discount = total_price * 0.10\n",
    "        total_price -= discount\n",
    "    print(f'Total Price after discount is: ${total_price:.2f}')\n",
    "else:\n",
    "    print(f'No additional items or costs.\\nTotal Price: ${carry_price:.2f}')\n"
   ]
  },
  {
   "cell_type": "code",
   "execution_count": 692,
   "id": "be850371",
   "metadata": {},
   "outputs": [
    {
     "name": "stdout",
     "output_type": "stream",
     "text": [
      "\n",
      "You saved $110.50 with the discount!\n",
      "\n",
      "\tNew Total Price: $994.46\n"
     ]
    }
   ],
   "source": [
    "# Display discounts and the new total price\n",
    "if selected_ssd or selected_second_hdd or selected_optical_drive or selected_os == True:\n",
    "    if discount:\n",
    "        print(f\"\\nYou saved ${discount:.2f} with the discount!\")\n",
    "    print(f\"\\n\\tNew Total Price: ${total_price:.2f}\")\n"
   ]
  },
  {
   "cell_type": "code",
   "execution_count": null,
   "id": "f31966c1",
   "metadata": {},
   "outputs": [],
   "source": []
  },
  {
   "cell_type": "code",
   "execution_count": null,
   "id": "9e10c45e",
   "metadata": {},
   "outputs": [],
   "source": []
  }
 ],
 "metadata": {
  "kernelspec": {
   "display_name": "Python 3 (ipykernel)",
   "language": "python",
   "name": "python3"
  },
  "language_info": {
   "codemirror_mode": {
    "name": "ipython",
    "version": 3
   },
   "file_extension": ".py",
   "mimetype": "text/x-python",
   "name": "python",
   "nbconvert_exporter": "python",
   "pygments_lexer": "ipython3",
   "version": "3.9.7"
  }
 },
 "nbformat": 4,
 "nbformat_minor": 5
}
