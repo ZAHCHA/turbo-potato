{
 "cells": [
  {
   "cell_type": "code",
   "execution_count": 2,
   "id": "74a5344e",
   "metadata": {},
   "outputs": [],
   "source": [
    "# Initialize charity names and totals\n",
    "charities = [\"\", \"\", \"\"]\n",
    "charity_totals = [0, 0, 0]\n"
   ]
  },
  {
   "cell_type": "code",
   "execution_count": 3,
   "id": "09de62ae",
   "metadata": {},
   "outputs": [],
   "source": [
    "\n",
    "def input_charity_names():\n",
    "    \"\"\"Function to input charity names.\"\"\"\n",
    "    for i in range(3):\n",
    "        while True:\n",
    "            charities[i] = input(f\"Enter the name of Charity {i + 1}: \")\n",
    "            if charities[i].strip():\n",
    "                break\n",
    "            else:\n",
    "                print(\"Charity name cannot be empty. Please try again.\")\n",
    "\n"
   ]
  },
  {
   "cell_type": "code",
   "execution_count": 4,
   "id": "73e3b24b",
   "metadata": {},
   "outputs": [],
   "source": [
    "def setup_donation_system():\n",
    "    \"\"\"Function to set up the donation system.\"\"\"\n",
    "    input_charity_names()\n",
    "\n",
    "    # Display charity names with numbers\n",
    "    for i, charity in enumerate(charities, start=1):\n",
    "        print(f\"{i}. {charity}\")\n",
    "\n",
    "    # Get user input for charity choice\n",
    "    while True:\n",
    "        try:\n",
    "            charity_choice = int(input(\"Choose a charity (1, 2, or 3): \"))\n",
    "            if 1 <= charity_choice <= 3:\n",
    "                break\n",
    "            else:\n",
    "                print(\"Invalid choice. Please enter 1, 2, or 3.\")\n",
    "        except ValueError:\n",
    "            print(\"Invalid input. Please enter a number.\")\n",
    "\n",
    "    # Get user input for shopping bill\n",
    "    while True:\n",
    "        try:\n",
    "            shopping_bill = float(input(\"Enter the shopping bill amount: $\"))\n",
    "            break\n",
    "        except ValueError:\n",
    "            print(\"Invalid input. Please enter a valid number for the shopping bill.\")\n",
    "\n",
    "    # Calculate donation\n",
    "    donation = 0.01 * shopping_bill\n",
    "\n",
    "    # Update charity total\n",
    "    charity_totals[charity_choice - 1] += donation\n",
    "\n",
    "    # Print donation information\n",
    "    print(f\"Donation of ${donation:.2f} recorded for {charities[charity_choice - 1]}.\")\n",
    "\n"
   ]
  },
  {
   "cell_type": "code",
   "execution_count": 5,
   "id": "c264c362",
   "metadata": {},
   "outputs": [],
   "source": [
    "def record_donation(charity_choice, shopping_bill):\n",
    "    \"\"\"Function to record and total each donation.\"\"\"\n",
    "    # Calculate donation\n",
    "    donation = 0.01 * shopping_bill\n",
    "\n",
    "    # Update charity total\n",
    "    charity_totals[charity_choice - 1] += donation\n",
    "\n",
    "    # Output donation information\n",
    "    print(f\"Donation of ${donation:.2f} recorded for {charities[charity_choice - 1]}.\")\n",
    "\n"
   ]
  },
  {
   "cell_type": "code",
   "execution_count": 6,
   "id": "4938b41d",
   "metadata": {},
   "outputs": [],
   "source": [
    "def show_totals():\n",
    "    \"\"\"Function to show the totals so far.\"\"\"\n",
    "    # Display charities and totals in descending order of totals\n",
    "    sorted_charities_totals = sorted(zip(charities, charity_totals), key=lambda x: x[1], reverse=True)\n",
    "    for charity, total in sorted_charities_totals:\n",
    "        print(f\"{charity}: ${total:.2f}\")\n",
    "\n",
    "    # Calculate grand total\n",
    "    grand_total = sum(charity_totals)\n",
    "\n",
    "    # Output grand total\n",
    "    print(f\"GRAND TOTAL DONATED TO CHARITY: ${grand_total:.2f}\")\n",
    "\n"
   ]
  },
  {
   "cell_type": "code",
   "execution_count": 7,
   "id": "db0175a0",
   "metadata": {},
   "outputs": [
    {
     "name": "stdout",
     "output_type": "stream",
     "text": [
      "Enter the name of Charity 1: cat\n",
      "Enter the name of Charity 2: rabbit\n",
      "Enter the name of Charity 3: badger\n",
      "Choose a charity (1, 2, or 3), or enter -1 to show totals: 1\n",
      "Enter the shopping bill amount: $10000\n",
      "Donation of $100.00 recorded for cat.\n",
      "Choose a charity (1, 2, or 3), or enter -1 to show totals: 2\n",
      "Enter the shopping bill amount: $20000\n",
      "Donation of $200.00 recorded for rabbit.\n",
      "Choose a charity (1, 2, or 3), or enter -1 to show totals: 3\n",
      "Enter the shopping bill amount: $30000\n",
      "Donation of $300.00 recorded for badger.\n",
      "Choose a charity (1, 2, or 3), or enter -1 to show totals: asdf\n",
      "Invalid input. Please enter a number.\n",
      "Choose a charity (1, 2, or 3), or enter -1 to show totals: 4\n",
      "Invalid choice. Please enter 1, 2, 3, or -1.\n",
      "Choose a charity (1, 2, or 3), or enter -1 to show totals: -1\n",
      "badger: $300.00\n",
      "rabbit: $200.00\n",
      "cat: $100.00\n",
      "GRAND TOTAL DONATED TO CHARITY: $600.00\n"
     ]
    }
   ],
   "source": [
    "# Main program\n",
    "input_charity_names()  # Call the function to input charity names at the start\n",
    "\n",
    "while True:\n",
    "    try:\n",
    "        charity_choice = int(input(\"Choose a charity (1, 2, or 3), or enter -1 to show totals: \"))\n",
    "        if charity_choice == -1:\n",
    "            show_totals()\n",
    "            break\n",
    "        elif 1 <= charity_choice <= 3:\n",
    "            shopping_bill = float(input(\"Enter the shopping bill amount: $\"))\n",
    "            record_donation(charity_choice, shopping_bill)\n",
    "        else:\n",
    "            print(\"Invalid choice. Please enter 1, 2, 3, or -1.\")\n",
    "    except ValueError:\n",
    "        print(\"Invalid input. Please enter a number.\")\n"
   ]
  },
  {
   "cell_type": "code",
   "execution_count": null,
   "id": "944e2e6e",
   "metadata": {},
   "outputs": [],
   "source": []
  },
  {
   "cell_type": "code",
   "execution_count": null,
   "id": "7ac0620a",
   "metadata": {},
   "outputs": [],
   "source": []
  },
  {
   "cell_type": "code",
   "execution_count": null,
   "id": "d45e833c",
   "metadata": {},
   "outputs": [],
   "source": []
  }
 ],
 "metadata": {
  "kernelspec": {
   "display_name": "Python 3 (ipykernel)",
   "language": "python",
   "name": "python3"
  },
  "language_info": {
   "codemirror_mode": {
    "name": "ipython",
    "version": 3
   },
   "file_extension": ".py",
   "mimetype": "text/x-python",
   "name": "python",
   "nbconvert_exporter": "python",
   "pygments_lexer": "ipython3",
   "version": "3.9.7"
  }
 },
 "nbformat": 4,
 "nbformat_minor": 5
}
