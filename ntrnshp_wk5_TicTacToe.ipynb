{
 "cells": [
  {
   "cell_type": "code",
   "execution_count": 1,
   "id": "241afd09",
   "metadata": {},
   "outputs": [],
   "source": [
    "def print_board(board):\n",
    "    for row in board:\n",
    "        print(\" | \".join(row))\n",
    "        print(\"-\" * 9)\n"
   ]
  },
  {
   "cell_type": "code",
   "execution_count": 2,
   "id": "aa2fc199",
   "metadata": {},
   "outputs": [],
   "source": [
    "def check_winner(board, player):\n",
    "    for i in range(3):\n",
    "        if all(board[i][j] == player for j in range(3)) or all(board[j][i] == player for j in range(3)):\n",
    "            return True\n",
    "    return any([all(board[i][i] == player for i in range(3)),\n",
    "                all(board[i][2 - i] == player for i in range(3))])\n"
   ]
  },
  {
   "cell_type": "code",
   "execution_count": 3,
   "id": "3e5a5538",
   "metadata": {},
   "outputs": [],
   "source": [
    "def is_board_full(board):\n",
    "    return all(cell != ' ' for row in board for cell in row)\n"
   ]
  },
  {
   "cell_type": "code",
   "execution_count": 4,
   "id": "e3c98d61",
   "metadata": {},
   "outputs": [],
   "source": [
    "def get_player_move(player):\n",
    "    move = input(f\"Player {player}, enter your move (1-9): \")\n",
    "    return (int(move) - 1) // 3, (int(move) - 1) % 3\n"
   ]
  },
  {
   "cell_type": "code",
   "execution_count": 5,
   "id": "b781b277",
   "metadata": {},
   "outputs": [],
   "source": [
    "def play_tic_tac_toe():\n",
    "    board = [[' ' for _ in range(3)] for _ in range(3)]\n",
    "    current_player = 'X'\n",
    "\n",
    "    while True:\n",
    "        print_board(board)\n",
    "\n",
    "        row, col = get_player_move(current_player)\n",
    "        \n",
    "        if board[row][col] == ' ':\n",
    "            board[row][col] = current_player\n",
    "\n",
    "            if check_winner(board, current_player):\n",
    "                print_board(board)\n",
    "                print(f\"Player {current_player} wins!\")\n",
    "                break\n",
    "\n",
    "            if is_board_full(board):\n",
    "                print_board(board)\n",
    "                print(\"It's a tie!\")\n",
    "                break\n",
    "\n",
    "            current_player = 'O' if current_player == 'X' else 'X'\n",
    "        else:\n",
    "            print(\"Invalid move. The cell is already occupied. Try again.\")\n"
   ]
  },
  {
   "cell_type": "code",
   "execution_count": 6,
   "id": "587e037a",
   "metadata": {},
   "outputs": [
    {
     "name": "stdout",
     "output_type": "stream",
     "text": [
      "Welcome to Tic Tac Toe!\n",
      "  |   |  \n",
      "---------\n",
      "  |   |  \n",
      "---------\n",
      "  |   |  \n",
      "---------\n",
      "Player X, enter your move (1-9): 1\n",
      "X |   |  \n",
      "---------\n",
      "  |   |  \n",
      "---------\n",
      "  |   |  \n",
      "---------\n",
      "Player O, enter your move (1-9): 2\n",
      "X | O |  \n",
      "---------\n",
      "  |   |  \n",
      "---------\n",
      "  |   |  \n",
      "---------\n",
      "Player X, enter your move (1-9): 3\n",
      "X | O | X\n",
      "---------\n",
      "  |   |  \n",
      "---------\n",
      "  |   |  \n",
      "---------\n",
      "Player O, enter your move (1-9): 4\n",
      "X | O | X\n",
      "---------\n",
      "O |   |  \n",
      "---------\n",
      "  |   |  \n",
      "---------\n",
      "Player X, enter your move (1-9): 5\n",
      "X | O | X\n",
      "---------\n",
      "O | X |  \n",
      "---------\n",
      "  |   |  \n",
      "---------\n",
      "Player O, enter your move (1-9): 6\n",
      "X | O | X\n",
      "---------\n",
      "O | X | O\n",
      "---------\n",
      "  |   |  \n",
      "---------\n",
      "Player X, enter your move (1-9): 7\n",
      "X | O | X\n",
      "---------\n",
      "O | X | O\n",
      "---------\n",
      "X |   |  \n",
      "---------\n",
      "Player X wins!\n"
     ]
    }
   ],
   "source": [
    "if __name__ == \"__main__\":\n",
    "    print(\"Welcome to Tic Tac Toe!\")\n",
    "    play_tic_tac_toe()\n",
    "\n"
   ]
  },
  {
   "cell_type": "code",
   "execution_count": null,
   "id": "72376def",
   "metadata": {},
   "outputs": [],
   "source": []
  },
  {
   "cell_type": "code",
   "execution_count": null,
   "id": "6f739bce",
   "metadata": {},
   "outputs": [],
   "source": []
  },
  {
   "cell_type": "code",
   "execution_count": null,
   "id": "12b16914",
   "metadata": {},
   "outputs": [],
   "source": []
  }
 ],
 "metadata": {
  "kernelspec": {
   "display_name": "Python 3 (ipykernel)",
   "language": "python",
   "name": "python3"
  },
  "language_info": {
   "codemirror_mode": {
    "name": "ipython",
    "version": 3
   },
   "file_extension": ".py",
   "mimetype": "text/x-python",
   "name": "python",
   "nbconvert_exporter": "python",
   "pygments_lexer": "ipython3",
   "version": "3.9.7"
  }
 },
 "nbformat": 4,
 "nbformat_minor": 5
}
